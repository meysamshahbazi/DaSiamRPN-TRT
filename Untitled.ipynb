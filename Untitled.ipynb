{
 "cells": [
  {
   "cell_type": "code",
   "execution_count": 99,
   "id": "ea2765e7",
   "metadata": {},
   "outputs": [],
   "source": [
    "import cv2\n",
    "# import matplotlib\n",
    "# import matplotlib.pyplot as plt\n",
    "import numpy as np\n",
    "import glob\n",
    "import torch\n",
    "import torch.nn as nn \n",
    "import time\n",
    "import math\n",
    "# import torch.nn.functional as F\n",
    "import onnx"
   ]
  },
  {
   "cell_type": "code",
   "execution_count": 100,
   "id": "b83294bc",
   "metadata": {},
   "outputs": [],
   "source": [
    "# --------------------------------------------------------\n",
    "# DaSiamRPN\n",
    "# Licensed under The MIT License\n",
    "# Written by Qiang Wang (wangqiang2015 at ia.ac.cn)\n",
    "# --------------------------------------------------------\n",
    "import torch.nn as nn\n",
    "import torch.nn.functional as F\n",
    "\n",
    "size = 1\n",
    "configs = [3, 96, 256, 384, 384, 256]\n",
    "configs = list(map(lambda x: 3 if x==3 else x*size, configs))\n",
    "feat_in = configs[-1]\n",
    "feature_out = 256\n",
    "anchor=5\n",
    "class SiamRPN(nn.Module):\n",
    "    def __init__(self):\n",
    "#     def __init__(self, size=2, feature_out=512, anchor=5):\n",
    "        \n",
    "        super(SiamRPN, self).__init__()\n",
    "        self.featureExtract = nn.Sequential(\n",
    "            nn.Conv2d(configs[0], configs[1] , kernel_size=11, stride=2),\n",
    "            nn.BatchNorm2d(configs[1]),\n",
    "            nn.MaxPool2d(kernel_size=3, stride=2),\n",
    "            nn.ReLU(inplace=True),\n",
    "            nn.Conv2d(configs[1], configs[2], kernel_size=5),\n",
    "            nn.BatchNorm2d(configs[2]),\n",
    "            nn.MaxPool2d(kernel_size=3, stride=2),\n",
    "            nn.ReLU(inplace=True),\n",
    "            nn.Conv2d(configs[2], configs[3], kernel_size=3),\n",
    "            nn.BatchNorm2d(configs[3]),\n",
    "            nn.ReLU(inplace=True),\n",
    "            nn.Conv2d(configs[3], configs[4], kernel_size=3),\n",
    "            nn.BatchNorm2d(configs[4]),\n",
    "            nn.ReLU(inplace=True),\n",
    "            nn.Conv2d(configs[4], configs[5], kernel_size=3),\n",
    "            nn.BatchNorm2d(configs[5]),\n",
    "        )\n",
    "\n",
    "        self.anchor = anchor\n",
    "        self.feature_out = feature_out\n",
    "\n",
    "        self.conv_r1 = nn.Conv2d(feat_in, feature_out*4*anchor, 3)\n",
    "        self.conv_r2 = nn.Conv2d(feat_in, feature_out, 3)\n",
    "        self.conv_cls1 = nn.Conv2d(feat_in, feature_out*2*anchor, 3)\n",
    "        self.conv_cls2 = nn.Conv2d(feat_in, feature_out, 3)\n",
    "        self.regress_adjust = nn.Conv2d(4*anchor, 4*anchor, 1)\n",
    "\n",
    "#         self.r1_kernel = []\n",
    "#         self.cls1_kernel = []\n",
    "\n",
    "        self.cfg = {}\n",
    "\n",
    "    def forward(self, x):\n",
    "        x_f = self.featureExtract(x)\n",
    "        return self.regress_adjust(F.conv2d(self.conv_r2(x_f), self.r1_kernel)), \\\n",
    "               F.conv2d(self.conv_cls2(x_f), self.cls1_kernel)\n",
    "\n",
    "    def temple(self, z):\n",
    "        z_f = self.featureExtract(z)\n",
    "        r1_kernel_raw = self.conv_r1(z_f)\n",
    "        cls1_kernel_raw = self.conv_cls1(z_f)\n",
    "        kernel_size = r1_kernel_raw.data.size()[-1]\n",
    "        self.r1_kernel = r1_kernel_raw.view(self.anchor*4, self.feature_out, kernel_size, kernel_size)\n",
    "        self.cls1_kernel = cls1_kernel_raw.view(self.anchor*2, self.feature_out, kernel_size, kernel_size)\n",
    "\n",
    "\n",
    "class SiamRPNBIG(SiamRPN):\n",
    "    def __init__(self):\n",
    "        super(SiamRPNBIG, self).__init__(size=2) \n",
    "        # self.cfg = {'lr':0.295, 'window_influence': 0.42, 'penalty_k': 0.055, 'instance_size': 271, 'adaptive': True} # 0.383\n",
    "        self.cfg = {'lr':0.295, 'window_influence': 0.42, 'penalty_k': 0.055, 'instance_size': 271, 'adaptive': True} # 0.383\n",
    "\n",
    "\n",
    "class SiamRPNvot(SiamRPN):\n",
    "    def __init__(self):\n",
    "        super(SiamRPNvot, self).__init__(size=1, feature_out=256)\n",
    "        self.cfg = {'lr':0.45, 'window_influence': 0.44, 'penalty_k': 0.04, 'instance_size': 271, 'adaptive': True} # 0.355\n",
    "\n",
    "\n",
    "class SiamRPNotb(SiamRPN):\n",
    "    def __init__(self):\n",
    "        super(SiamRPNotb, self).__init__()#size=1, feature_out=256)\n",
    "        self.cfg = {'lr': 0.30, 'window_influence': 0.40, 'penalty_k': 0.22, 'instance_size': 271, 'adaptive': True} # 0.655\n"
   ]
  },
  {
   "cell_type": "code",
   "execution_count": 101,
   "id": "f859c252",
   "metadata": {},
   "outputs": [],
   "source": [
    "net = SiamRPNotb()\n",
    "net.eval()\n",
    "net.cuda()\n",
    "z = torch.randn(1,3,127,127).cuda()\n",
    "net.temple(z)\n",
    "x = torch.randn(1,3,271,271).cuda()\n",
    "delta, score = net(x)\n",
    "\n",
    "    "
   ]
  },
  {
   "cell_type": "code",
   "execution_count": 103,
   "id": "98a41890",
   "metadata": {},
   "outputs": [],
   "source": [
    "delta = delta.permute(1, 2, 3, 0).contiguous().view(4, -1)"
   ]
  },
  {
   "cell_type": "code",
   "execution_count": 112,
   "id": "1341dd74",
   "metadata": {},
   "outputs": [
    {
     "data": {
      "text/plain": [
       "torch.Size([1, 10, 19, 19])"
      ]
     },
     "execution_count": 112,
     "metadata": {},
     "output_type": "execute_result"
    }
   ],
   "source": [
    "score.shape"
   ]
  },
  {
   "cell_type": "code",
   "execution_count": null,
   "id": "76e9e4e1",
   "metadata": {},
   "outputs": [],
   "source": []
  },
  {
   "cell_type": "code",
   "execution_count": null,
   "id": "d4402186",
   "metadata": {},
   "outputs": [],
   "source": [
    "delta = delta.permute(1, 2, 3, 0).contiguous().view(4, -1).data.cpu().numpy()"
   ]
  },
  {
   "cell_type": "code",
   "execution_count": null,
   "id": "cb0b640f",
   "metadata": {},
   "outputs": [],
   "source": []
  },
  {
   "cell_type": "code",
   "execution_count": null,
   "id": "dd79bca9",
   "metadata": {},
   "outputs": [],
   "source": []
  },
  {
   "cell_type": "code",
   "execution_count": 5,
   "id": "435de875",
   "metadata": {},
   "outputs": [],
   "source": [
    "# --------------------------------------------------------\n",
    "# DaSiamRPN\n",
    "# Licensed under The MIT License\n",
    "# Written by Qiang Wang (wangqiang2015 at ia.ac.cn)\n",
    "# --------------------------------------------------------\n",
    "import torch.nn as nn\n",
    "import torch.nn.functional as F\n",
    "\n",
    "size = 1\n",
    "configs = [3, 96, 256, 384, 384, 256]\n",
    "configs = list(map(lambda x: 3 if x==3 else x*size, configs))\n",
    "feat_in = configs[-1]\n",
    "feature_out = 256\n",
    "anchor=5\n",
    "class Temple(nn.Module):\n",
    "    def __init__(self):        \n",
    "        super(Temple, self).__init__()\n",
    "        self.cfg = {'lr': 0.30, 'window_influence': 0.40, 'penalty_k': 0.22, 'instance_size': 271, 'adaptive': True} # 0.655\n",
    "\n",
    "        self.featureExtract = nn.Sequential(\n",
    "            nn.Conv2d(configs[0], configs[1] , kernel_size=11, stride=2),\n",
    "            nn.BatchNorm2d(configs[1]),\n",
    "            nn.MaxPool2d(kernel_size=3, stride=2),\n",
    "            nn.ReLU(inplace=True),\n",
    "            nn.Conv2d(configs[1], configs[2], kernel_size=5),\n",
    "            nn.BatchNorm2d(configs[2]),\n",
    "            nn.MaxPool2d(kernel_size=3, stride=2),\n",
    "            nn.ReLU(inplace=True),\n",
    "            nn.Conv2d(configs[2], configs[3], kernel_size=3),\n",
    "            nn.BatchNorm2d(configs[3]),\n",
    "            nn.ReLU(inplace=True),\n",
    "            nn.Conv2d(configs[3], configs[4], kernel_size=3),\n",
    "            nn.BatchNorm2d(configs[4]),\n",
    "            nn.ReLU(inplace=True),\n",
    "            nn.Conv2d(configs[4], configs[5], kernel_size=3),\n",
    "            nn.BatchNorm2d(configs[5]),\n",
    "        )\n",
    "\n",
    "        self.anchor = anchor\n",
    "        self.feature_out = feature_out\n",
    "\n",
    "        self.conv_r1 = nn.Conv2d(feat_in, feature_out*4*anchor, 3)\n",
    "        self.conv_r2 = nn.Conv2d(feat_in, feature_out, 3)\n",
    "        self.conv_cls1 = nn.Conv2d(feat_in, feature_out*2*anchor, 3)\n",
    "        self.conv_cls2 = nn.Conv2d(feat_in, feature_out, 3)\n",
    "        self.regress_adjust = nn.Conv2d(4*anchor, 4*anchor, 1)\n",
    "\n",
    "        \n",
    "\n",
    "    def forward(self, z):\n",
    "        with torch.no_grad():\n",
    "            z_f = self.featureExtract(z)\n",
    "            r1_kernel_raw = self.conv_r1(z_f)\n",
    "            cls1_kernel_raw = self.conv_cls1(z_f)\n",
    "            kernel_size = r1_kernel_raw.data.size()[-1]\n",
    "            r1_kernel = r1_kernel_raw.view(self.anchor*4, self.feature_out, kernel_size, kernel_size)\n",
    "            cls1_kernel = cls1_kernel_raw.view(self.anchor*2, self.feature_out, kernel_size, kernel_size)\n",
    "        return r1_kernel,cls1_kernel\n"
   ]
  },
  {
   "cell_type": "code",
   "execution_count": 7,
   "id": "1f749b8d",
   "metadata": {
    "scrolled": false
   },
   "outputs": [],
   "source": [
    "model = Temple()\n",
    "model.load_state_dict(torch.load('SiamRPNOTB.model'))\n",
    "z = torch.randn(1,3,127,127).cuda()\n",
    "model.eval()\n",
    "model.cuda()\n",
    "ONNX_FILE_PATH = \"temple.onnx\"\n",
    "\n",
    "# torch.onnx.export(model, z, ONNX_FILE_PATH, input_names=[\"z\"], output_names=[\"zf\"], export_params=True)\n",
    "\n",
    "torch.onnx.export(model, z, ONNX_FILE_PATH, input_names=[\"z\"], output_names=[\"r1_kernel\",\"cls1_kernel\"], export_params=True)\n"
   ]
  },
  {
   "cell_type": "code",
   "execution_count": 8,
   "id": "c9386e14",
   "metadata": {},
   "outputs": [],
   "source": [
    "r1_kernel,cls1_kernel = model(z)"
   ]
  },
  {
   "cell_type": "code",
   "execution_count": 6,
   "id": "90c014fd",
   "metadata": {},
   "outputs": [],
   "source": [
    "\n",
    "size = 1\n",
    "configs = [3, 96, 256, 384, 384, 256]\n",
    "configs = list(map(lambda x: 3 if x==3 else x*size, configs))\n",
    "feat_in = configs[-1]\n",
    "feature_out = 256\n",
    "anchor=5\n",
    "class SiamRPN(nn.Module):\n",
    "    def __init__(self):\n",
    "#     def __init__(self, size=2, feature_out=512, anchor=5):\n",
    "        \n",
    "        super(SiamRPN, self).__init__()\n",
    "        self.featureExtract = nn.Sequential(\n",
    "            nn.Conv2d(configs[0], configs[1] , kernel_size=11, stride=2),\n",
    "            nn.BatchNorm2d(configs[1]),\n",
    "            nn.MaxPool2d(kernel_size=3, stride=2),\n",
    "            nn.ReLU(inplace=True),\n",
    "            nn.Conv2d(configs[1], configs[2], kernel_size=5),\n",
    "            nn.BatchNorm2d(configs[2]),\n",
    "            nn.MaxPool2d(kernel_size=3, stride=2),\n",
    "            nn.ReLU(inplace=True),\n",
    "            nn.Conv2d(configs[2], configs[3], kernel_size=3),\n",
    "            nn.BatchNorm2d(configs[3]),\n",
    "            nn.ReLU(inplace=True),\n",
    "            nn.Conv2d(configs[3], configs[4], kernel_size=3),\n",
    "            nn.BatchNorm2d(configs[4]),\n",
    "            nn.ReLU(inplace=True),\n",
    "            nn.Conv2d(configs[4], configs[5], kernel_size=3),\n",
    "            nn.BatchNorm2d(configs[5]),\n",
    "        )\n",
    "\n",
    "        self.anchor = anchor\n",
    "        self.feature_out = feature_out\n",
    "\n",
    "        self.conv_r1 = nn.Conv2d(feat_in, feature_out*4*anchor, 3)\n",
    "        self.conv_r2 = nn.Conv2d(feat_in, feature_out, 3)\n",
    "        self.conv_cls1 = nn.Conv2d(feat_in, feature_out*2*anchor, 3)\n",
    "        self.conv_cls2 = nn.Conv2d(feat_in, feature_out, 3)\n",
    "        self.regress_adjust = nn.Conv2d(4*anchor, 4*anchor, 1)\n",
    "\n",
    "#         self.r1_kernel = []\n",
    "#         self.cls1_kernel = []\n",
    "\n",
    "        self.cfg = {}\n",
    "\n",
    "    def forward(self, x):\n",
    "        x_f = self.featureExtract(x)\n",
    "        return self.conv_r2(x_f),self.conv_cls2(x_f)\n",
    "#         return self.regress_adjust(F.conv2d(self.conv_r2(x_f), self.r1_kernel)), \\\n",
    "#                F.conv2d(self.conv_cls2(x_f), self.cls1_kernel)\n",
    "    \n",
    "        \n",
    "#     def temple(self, z):\n",
    "#         z_f = self.featureExtract(z)\n",
    "#         r1_kernel_raw = self.conv_r1(z_f)\n",
    "#         cls1_kernel_raw = self.conv_cls1(z_f)\n",
    "#         kernel_size = r1_kernel_raw.data.size()[-1]\n",
    "#         self.r1_kernel = r1_kernel_raw.view(self.anchor*4, self.feature_out, kernel_size, kernel_size)\n",
    "#         self.cls1_kernel = cls1_kernel_raw.view(self.anchor*2, self.feature_out, kernel_size, kernel_size)\n"
   ]
  },
  {
   "cell_type": "code",
   "execution_count": 10,
   "id": "4487df65",
   "metadata": {},
   "outputs": [],
   "source": [
    "model = SiamRPN()\n",
    "model.load_state_dict(torch.load('SiamRPNOTB.model'))\n",
    "x = torch.randn(1,3,271,271).cuda()\n",
    "model.eval()\n",
    "model.cuda()\n",
    "ONNX_FILE_PATH = \"SiamRPNOTB.onnx\"\n",
    "\n",
    "# torch.onnx.export(model, z, ONNX_FILE_PATH, input_names=[\"z\"], output_names=[\"zf\"], export_params=True)\n",
    "\n",
    "torch.onnx.export(model,x, ONNX_FILE_PATH, input_names=[\"x\"], \n",
    "                  output_names=[\"delta\", \"score\" ], export_params=True)\n"
   ]
  },
  {
   "cell_type": "code",
   "execution_count": 7,
   "id": "684c53a8",
   "metadata": {},
   "outputs": [],
   "source": [
    "temple = Temple()\n",
    "temple = Temple()\n",
    "temple.load_state_dict(torch.load('SiamRPNOTB.model'))\n",
    "z = torch.randn(1,3,127,127).cuda()\n",
    "temple.eval()\n",
    "temple.cuda()\n",
    "r1_kernel,cls1_kernel = temple(z)"
   ]
  },
  {
   "cell_type": "code",
   "execution_count": 8,
   "id": "8ccef7a3",
   "metadata": {},
   "outputs": [],
   "source": [
    "siam = SiamRPN()\n",
    "siam.load_state_dict(torch.load('SiamRPNOTB.model'))\n",
    "x = torch.randn(1,3,271,271).cuda()\n",
    "siam.eval()\n",
    "siam.cuda()\n",
    "delta,score = siam(x)"
   ]
  },
  {
   "cell_type": "code",
   "execution_count": 9,
   "id": "7081eef7",
   "metadata": {},
   "outputs": [],
   "source": [
    "delta2 = F.conv2d(delta, r1_kernel)"
   ]
  },
  {
   "cell_type": "code",
   "execution_count": 10,
   "id": "e5b2cc67",
   "metadata": {},
   "outputs": [
    {
     "data": {
      "text/plain": [
       "torch.Size([1, 10, 19, 19])"
      ]
     },
     "execution_count": 10,
     "metadata": {},
     "output_type": "execute_result"
    }
   ],
   "source": [
    "score2 = F.conv2d(score, cls1_kernel)\n",
    "score2.shape"
   ]
  },
  {
   "cell_type": "code",
   "execution_count": 11,
   "id": "fd5cf5cc",
   "metadata": {},
   "outputs": [
    {
     "data": {
      "text/plain": [
       "torch.Size([1, 20, 19, 19])"
      ]
     },
     "execution_count": 11,
     "metadata": {},
     "output_type": "execute_result"
    }
   ],
   "source": [
    "delta2.shape"
   ]
  },
  {
   "cell_type": "code",
   "execution_count": 12,
   "id": "a049ed27",
   "metadata": {},
   "outputs": [
    {
     "data": {
      "text/plain": [
       "torch.Size([20, 256, 4, 4])"
      ]
     },
     "execution_count": 12,
     "metadata": {},
     "output_type": "execute_result"
    }
   ],
   "source": [
    "r1_kernel.shape"
   ]
  },
  {
   "cell_type": "code",
   "execution_count": 13,
   "id": "91ed734f",
   "metadata": {},
   "outputs": [
    {
     "data": {
      "text/plain": [
       "torch.Size([10, 256, 4, 4])"
      ]
     },
     "execution_count": 13,
     "metadata": {},
     "output_type": "execute_result"
    }
   ],
   "source": [
    "cls1_kernel.shape"
   ]
  },
  {
   "cell_type": "code",
   "execution_count": 108,
   "id": "e858301b",
   "metadata": {},
   "outputs": [],
   "source": [
    "class RegressAdjust(nn.Module):\n",
    "    def __init__(self):\n",
    "        super(RegressAdjust, self).__init__()\n",
    "        self.conv = siam.regress_adjust\n",
    "    def forward(self,delta2):\n",
    "        delta = self.conv(delta2)\n",
    "        delta = delta.permute(1, 2, 3, 0).contiguous().view(4, -1)\n",
    "        return delta"
   ]
  },
  {
   "cell_type": "code",
   "execution_count": 109,
   "id": "04c0ccf5",
   "metadata": {},
   "outputs": [],
   "source": [
    "model = RegressAdjust()\n",
    "# model.load_state_dict(torch.load('SiamRPNOTB.model'))\n",
    "x = torch.randn(1,20,19,19).cuda()\n",
    "model.eval()\n",
    "model.cuda()\n",
    "ONNX_FILE_PATH = \"RegressAdjust.onnx\"\n",
    "\n",
    "# torch.onnx.export(model, z, ONNX_FILE_PATH, input_names=[\"z\"], output_names=[\"zf\"], export_params=True)\n",
    "\n",
    "torch.onnx.export(model,x, ONNX_FILE_PATH, input_names=[\"delta2\"], \n",
    "                  output_names=[\"final_delta\" ], export_params=True)"
   ]
  },
  {
   "cell_type": "code",
   "execution_count": 110,
   "id": "64959034",
   "metadata": {},
   "outputs": [
    {
     "data": {
      "text/plain": [
       "torch.Size([4, 1805])"
      ]
     },
     "execution_count": 110,
     "metadata": {},
     "output_type": "execute_result"
    }
   ],
   "source": [
    "y = model(x)\n",
    "y.shape"
   ]
  },
  {
   "cell_type": "code",
   "execution_count": 111,
   "id": "4a555050",
   "metadata": {},
   "outputs": [
    {
     "data": {
      "text/plain": [
       "tensor([[ 0.0012, -0.1298, -0.0033,  ...,  0.0602, -0.0365,  0.1280],\n",
       "        [-0.1015, -0.0980, -0.0731,  ..., -0.0420,  0.1005, -0.1431],\n",
       "        [-0.2207, -0.3327, -0.1688,  ...,  0.1557,  0.1316,  0.1862],\n",
       "        [ 0.3933,  0.0751,  0.1954,  ..., -0.3612,  0.0348, -0.1545]],\n",
       "       device='cuda:0', grad_fn=<ViewBackward0>)"
      ]
     },
     "execution_count": 111,
     "metadata": {},
     "output_type": "execute_result"
    }
   ],
   "source": [
    "y"
   ]
  },
  {
   "cell_type": "code",
   "execution_count": null,
   "id": "de0c0b98",
   "metadata": {},
   "outputs": [],
   "source": []
  },
  {
   "cell_type": "code",
   "execution_count": 96,
   "id": "69cfe81a",
   "metadata": {},
   "outputs": [],
   "source": [
    "\n",
    "\n",
    "def generate_anchor(total_stride, scales, ratios, score_size):\n",
    "    anchor_num = len(ratios) * len(scales)\n",
    "    anchor = np.zeros((anchor_num, 4),  dtype=np.float32)\n",
    "    size = total_stride * total_stride\n",
    "    count = 0\n",
    "    for ratio in ratios:\n",
    "        # ws = int(np.sqrt(size * 1.0 / ratio))\n",
    "        ws = int(np.sqrt(size / ratio))\n",
    "        hs = int(ws * ratio)\n",
    "        for scale in scales:\n",
    "            wws = ws * scale\n",
    "            hhs = hs * scale\n",
    "            anchor[count, 0] = 0\n",
    "            anchor[count, 1] = 0\n",
    "            anchor[count, 2] = wws\n",
    "            anchor[count, 3] = hhs\n",
    "            count += 1\n",
    "\n",
    "    anchor = np.tile(anchor, score_size * score_size).reshape((-1, 4))\n",
    "    ori = - (score_size / 2) * total_stride\n",
    "    xx, yy = np.meshgrid([ori + total_stride * dx for dx in range(score_size)],\n",
    "                         [ori + total_stride * dy for dy in range(score_size)])\n",
    "    xx, yy = np.tile(xx.flatten(), (anchor_num, 1)).flatten(), \\\n",
    "             np.tile(yy.flatten(), (anchor_num, 1)).flatten()\n",
    "    anchor[:, 0], anchor[:, 1] = xx.astype(np.float32), yy.astype(np.float32)\n",
    "    return anchor"
   ]
  },
  {
   "cell_type": "code",
   "execution_count": 97,
   "id": "3ba1ea73",
   "metadata": {},
   "outputs": [],
   "source": [
    "score_size = (271-127) / 8 + 1\n",
    "anchor1= generate_anchor(total_stride=8, scales= [8, ], \n",
    "                         ratios = [0.33, 0.5, 1, 2, 3], score_size =int(score_size))"
   ]
  },
  {
   "cell_type": "code",
   "execution_count": 66,
   "id": "6da13844",
   "metadata": {},
   "outputs": [],
   "source": [
    "total_stride=8 \n",
    "scales= [8, ]\n",
    "ratios = [0.33, 0.5, 1, 2, 3]\n",
    "score_size =int(score_size)\n",
    "\n",
    "anchor_num = len(ratios) * len(scales)\n",
    "anchor = np.zeros((anchor_num, 4),  dtype=np.float32)\n",
    "size = total_stride * total_stride\n",
    "count = 0\n",
    "for ratio in ratios:\n",
    "    # ws = int(np.sqrt(size * 1.0 / ratio))\n",
    "    ws = int(np.sqrt(size / ratio))\n",
    "    hs = int(ws * ratio)\n",
    "    for scale in scales:\n",
    "        wws = ws * scale\n",
    "        hhs = hs * scale\n",
    "        anchor[count, 0] = 0\n",
    "        anchor[count, 1] = 0\n",
    "        anchor[count, 2] = wws\n",
    "        anchor[count, 3] = hhs\n",
    "        count += 1\n",
    "\n",
    "anchor = np.tile(anchor, score_size * score_size).reshape((-1, 4))\n",
    "\n",
    "ori = - (score_size / 2) * total_stride\n",
    "\n",
    "xx, yy = np.meshgrid([ori + total_stride * dx for dx in range(score_size)],\n",
    "                    [ori + total_stride * dy for dy in range(score_size)])\n",
    "\n",
    "xx, yy = np.tile(xx.flatten(), (anchor_num, 1)).flatten(), \\\n",
    "         np.tile(yy.flatten(), (anchor_num, 1)).flatten()"
   ]
  },
  {
   "cell_type": "code",
   "execution_count": 98,
   "id": "3f421d4e",
   "metadata": {},
   "outputs": [
    {
     "data": {
      "text/plain": [
       "array([[-76., -76., 104.,  32.],\n",
       "       [-68., -76., 104.,  32.],\n",
       "       [-60., -76., 104.,  32.],\n",
       "       ...,\n",
       "       [ 52.,  68.,  32.,  96.],\n",
       "       [ 60.,  68.,  32.,  96.],\n",
       "       [ 68.,  68.,  32.,  96.]], dtype=float32)"
      ]
     },
     "execution_count": 98,
     "metadata": {},
     "output_type": "execute_result"
    }
   ],
   "source": [
    "anchor1"
   ]
  },
  {
   "cell_type": "code",
   "execution_count": 95,
   "id": "0479a251",
   "metadata": {},
   "outputs": [
    {
     "data": {
      "text/plain": [
       "array([ 0.,  0.,  0.,  0.,  0.,  0.,  0.,  0.,  0.,  0.,  0.,  0.,  0.,\n",
       "        0.,  0.,  0.,  0.,  0.,  0.,  1.,  1.,  1.,  1.,  1.,  1.,  1.,\n",
       "        1.,  1.,  1.,  1.,  1.,  1.,  1.,  1.,  1.,  1.,  1.,  1.,  2.,\n",
       "        2.,  2.,  2.,  2.,  2.,  2.,  2.,  2.,  2.,  2.,  2.,  2.,  2.,\n",
       "        2.,  2.,  2.,  2.,  2.,  3.,  3.,  3.,  3.,  3.,  3.,  3.,  3.,\n",
       "        3.,  3.,  3.,  3.,  3.,  3.,  3.,  3.,  3.,  3.,  3.,  4.,  4.,\n",
       "        4.,  4.,  4.,  4.,  4.,  4.,  4.,  4.,  4.,  4.,  4.,  4.,  4.,\n",
       "        4.,  4.,  4.,  4.,  5.,  5.,  5.,  5.,  5.,  5.,  5.,  5.,  5.,\n",
       "        5.,  5.,  5.,  5.,  5.,  5.,  5.,  5.,  5.,  5.,  6.,  6.,  6.,\n",
       "        6.,  6.,  6.,  6.,  6.,  6.,  6.,  6.,  6.,  6.,  6.,  6.,  6.,\n",
       "        6.,  6.,  6.,  7.,  7.,  7.,  7.,  7.,  7.,  7.,  7.,  7.,  7.,\n",
       "        7.,  7.,  7.,  7.,  7.,  7.,  7.,  7.,  7.,  8.,  8.,  8.,  8.,\n",
       "        8.,  8.,  8.,  8.,  8.,  8.,  8.,  8.,  8.,  8.,  8.,  8.,  8.,\n",
       "        8.,  8.,  9.,  9.,  9.,  9.,  9.,  9.,  9.,  9.,  9.,  9.,  9.,\n",
       "        9.,  9.,  9.,  9.,  9.,  9.,  9.,  9., 10., 10., 10., 10., 10.,\n",
       "       10., 10., 10., 10., 10., 10., 10., 10., 10., 10., 10., 10., 10.,\n",
       "       10., 11., 11., 11., 11., 11., 11., 11., 11., 11., 11., 11., 11.,\n",
       "       11., 11., 11., 11., 11., 11., 11., 12., 12., 12., 12., 12., 12.,\n",
       "       12., 12., 12., 12., 12., 12., 12., 12., 12., 12., 12., 12., 12.,\n",
       "       13., 13., 13., 13., 13., 13., 13., 13., 13., 13., 13., 13., 13.,\n",
       "       13., 13., 13., 13., 13., 13., 14., 14., 14., 14., 14., 14., 14.,\n",
       "       14., 14., 14., 14., 14., 14., 14., 14., 14., 14., 14., 14., 15.,\n",
       "       15., 15., 15., 15., 15., 15., 15., 15., 15., 15., 15., 15., 15.,\n",
       "       15., 15., 15., 15., 15., 16., 16., 16., 16., 16., 16., 16., 16.,\n",
       "       16., 16., 16., 16., 16., 16., 16., 16., 16., 16., 16., 17., 17.,\n",
       "       17., 17., 17., 17., 17., 17., 17., 17., 17., 17., 17., 17., 17.,\n",
       "       17., 17., 17., 17., 18., 18., 18., 18., 18., 18., 18., 18., 18.,\n",
       "       18., 18., 18., 18., 18., 18., 18., 18., 18., 18.])"
      ]
     },
     "execution_count": 95,
     "metadata": {},
     "output_type": "execute_result"
    }
   ],
   "source": [
    "(yy[:19*19]+76)/8"
   ]
  },
  {
   "cell_type": "code",
   "execution_count": null,
   "id": "29492761",
   "metadata": {},
   "outputs": [],
   "source": []
  },
  {
   "cell_type": "code",
   "execution_count": null,
   "id": "1d0f6798",
   "metadata": {},
   "outputs": [],
   "source": []
  },
  {
   "cell_type": "code",
   "execution_count": null,
   "id": "3b65a3c7",
   "metadata": {},
   "outputs": [],
   "source": []
  },
  {
   "cell_type": "code",
   "execution_count": null,
   "id": "adb13cdd",
   "metadata": {},
   "outputs": [],
   "source": []
  },
  {
   "cell_type": "code",
   "execution_count": null,
   "id": "c9763578",
   "metadata": {
    "scrolled": true
   },
   "outputs": [],
   "source": []
  },
  {
   "cell_type": "code",
   "execution_count": null,
   "id": "fe2e00dc",
   "metadata": {},
   "outputs": [],
   "source": []
  },
  {
   "cell_type": "code",
   "execution_count": null,
   "id": "f0ac2e0d",
   "metadata": {},
   "outputs": [],
   "source": []
  },
  {
   "cell_type": "code",
   "execution_count": null,
   "id": "93a39ca8",
   "metadata": {},
   "outputs": [],
   "source": []
  },
  {
   "cell_type": "code",
   "execution_count": null,
   "id": "f282b9dc",
   "metadata": {},
   "outputs": [],
   "source": []
  },
  {
   "cell_type": "code",
   "execution_count": null,
   "id": "d19b7b25",
   "metadata": {},
   "outputs": [],
   "source": []
  },
  {
   "cell_type": "code",
   "execution_count": null,
   "id": "7668680e",
   "metadata": {},
   "outputs": [],
   "source": []
  },
  {
   "cell_type": "code",
   "execution_count": null,
   "id": "d468434b",
   "metadata": {},
   "outputs": [],
   "source": []
  },
  {
   "cell_type": "code",
   "execution_count": null,
   "id": "914c0734",
   "metadata": {},
   "outputs": [],
   "source": []
  },
  {
   "cell_type": "code",
   "execution_count": null,
   "id": "a9184a64",
   "metadata": {},
   "outputs": [],
   "source": []
  },
  {
   "cell_type": "code",
   "execution_count": null,
   "id": "db454393",
   "metadata": {},
   "outputs": [],
   "source": []
  }
 ],
 "metadata": {
  "kernelspec": {
   "display_name": "Python 3 (ipykernel)",
   "language": "python",
   "name": "python3"
  },
  "language_info": {
   "codemirror_mode": {
    "name": "ipython",
    "version": 3
   },
   "file_extension": ".py",
   "mimetype": "text/x-python",
   "name": "python",
   "nbconvert_exporter": "python",
   "pygments_lexer": "ipython3",
   "version": "3.9.7"
  }
 },
 "nbformat": 4,
 "nbformat_minor": 5
}
