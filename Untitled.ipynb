{
 "cells": [
  {
   "cell_type": "code",
   "execution_count": 6,
   "id": "ea2765e7",
   "metadata": {},
   "outputs": [],
   "source": [
    "import cv2\n",
    "# import matplotlib\n",
    "# import matplotlib.pyplot as plt\n",
    "import numpy as np\n",
    "import glob\n",
    "import torch\n",
    "import torch.nn as nn \n",
    "import time\n",
    "import math\n",
    "# import torch.nn.functional as F\n",
    "import onnx"
   ]
  },
  {
   "cell_type": "code",
   "execution_count": 7,
   "id": "b83294bc",
   "metadata": {},
   "outputs": [],
   "source": [
    "# --------------------------------------------------------\n",
    "# DaSiamRPN\n",
    "# Licensed under The MIT License\n",
    "# Written by Qiang Wang (wangqiang2015 at ia.ac.cn)\n",
    "# --------------------------------------------------------\n",
    "import torch.nn as nn\n",
    "import torch.nn.functional as F\n",
    "\n",
    "\n",
    "class SiamRPN(nn.Module):\n",
    "    def __init__(self, size=2, feature_out=512, anchor=5):\n",
    "        configs = [3, 96, 256, 384, 384, 256]\n",
    "        configs = list(map(lambda x: 3 if x==3 else x*size, configs))\n",
    "        feat_in = configs[-1]\n",
    "        super(SiamRPN, self).__init__()\n",
    "        self.featureExtract = nn.Sequential(\n",
    "            nn.Conv2d(configs[0], configs[1] , kernel_size=11, stride=2),\n",
    "            nn.BatchNorm2d(configs[1]),\n",
    "            nn.MaxPool2d(kernel_size=3, stride=2),\n",
    "            nn.ReLU(inplace=True),\n",
    "            nn.Conv2d(configs[1], configs[2], kernel_size=5),\n",
    "            nn.BatchNorm2d(configs[2]),\n",
    "            nn.MaxPool2d(kernel_size=3, stride=2),\n",
    "            nn.ReLU(inplace=True),\n",
    "            nn.Conv2d(configs[2], configs[3], kernel_size=3),\n",
    "            nn.BatchNorm2d(configs[3]),\n",
    "            nn.ReLU(inplace=True),\n",
    "            nn.Conv2d(configs[3], configs[4], kernel_size=3),\n",
    "            nn.BatchNorm2d(configs[4]),\n",
    "            nn.ReLU(inplace=True),\n",
    "            nn.Conv2d(configs[4], configs[5], kernel_size=3),\n",
    "            nn.BatchNorm2d(configs[5]),\n",
    "        )\n",
    "\n",
    "        self.anchor = anchor\n",
    "        self.feature_out = feature_out\n",
    "\n",
    "        self.conv_r1 = nn.Conv2d(feat_in, feature_out*4*anchor, 3)\n",
    "        self.conv_r2 = nn.Conv2d(feat_in, feature_out, 3)\n",
    "        self.conv_cls1 = nn.Conv2d(feat_in, feature_out*2*anchor, 3)\n",
    "        self.conv_cls2 = nn.Conv2d(feat_in, feature_out, 3)\n",
    "        self.regress_adjust = nn.Conv2d(4*anchor, 4*anchor, 1)\n",
    "\n",
    "        self.r1_kernel = []\n",
    "        self.cls1_kernel = []\n",
    "\n",
    "        self.cfg = {}\n",
    "\n",
    "    def forward(self, x):\n",
    "        x_f = self.featureExtract(x)\n",
    "        return self.regress_adjust(F.conv2d(self.conv_r2(x_f), self.r1_kernel)), \\\n",
    "               F.conv2d(self.conv_cls2(x_f), self.cls1_kernel)\n",
    "\n",
    "    def temple(self, z):\n",
    "        z_f = self.featureExtract(z)\n",
    "        r1_kernel_raw = self.conv_r1(z_f)\n",
    "        cls1_kernel_raw = self.conv_cls1(z_f)\n",
    "        kernel_size = r1_kernel_raw.data.size()[-1]\n",
    "        self.r1_kernel = r1_kernel_raw.view(self.anchor*4, self.feature_out, kernel_size, kernel_size)\n",
    "        self.cls1_kernel = cls1_kernel_raw.view(self.anchor*2, self.feature_out, kernel_size, kernel_size)\n",
    "\n",
    "\n",
    "class SiamRPNBIG(SiamRPN):\n",
    "    def __init__(self):\n",
    "        super(SiamRPNBIG, self).__init__(size=2) \n",
    "        # self.cfg = {'lr':0.295, 'window_influence': 0.42, 'penalty_k': 0.055, 'instance_size': 271, 'adaptive': True} # 0.383\n",
    "        self.cfg = {'lr':0.295, 'window_influence': 0.42, 'penalty_k': 0.055, 'instance_size': 271, 'adaptive': True} # 0.383\n",
    "\n",
    "\n",
    "class SiamRPNvot(SiamRPN):\n",
    "    def __init__(self):\n",
    "        super(SiamRPNvot, self).__init__(size=1, feature_out=256)\n",
    "        self.cfg = {'lr':0.45, 'window_influence': 0.44, 'penalty_k': 0.04, 'instance_size': 271, 'adaptive': True} # 0.355\n",
    "\n",
    "\n",
    "class SiamRPNotb(SiamRPN):\n",
    "    def __init__(self):\n",
    "        super(SiamRPNotb, self).__init__(size=1, feature_out=256)\n",
    "        self.cfg = {'lr': 0.30, 'window_influence': 0.40, 'penalty_k': 0.22, 'instance_size': 271, 'adaptive': True} # 0.655\n"
   ]
  },
  {
   "cell_type": "code",
   "execution_count": 9,
   "id": "69cfe81a",
   "metadata": {},
   "outputs": [
    {
     "data": {
      "text/plain": [
       "<All keys matched successfully>"
      ]
     },
     "execution_count": 9,
     "metadata": {},
     "output_type": "execute_result"
    }
   ],
   "source": [
    "net = SiamRPNotb()\n",
    "net.load_state_dict(torch.load('SiamRPNOTB.model'))\n"
   ]
  },
  {
   "cell_type": "code",
   "execution_count": 10,
   "id": "3ba1ea73",
   "metadata": {},
   "outputs": [
    {
     "data": {
      "text/plain": [
       "SiamRPNotb(\n",
       "  (featureExtract): Sequential(\n",
       "    (0): Conv2d(3, 96, kernel_size=(11, 11), stride=(2, 2))\n",
       "    (1): BatchNorm2d(96, eps=1e-05, momentum=0.1, affine=True, track_running_stats=True)\n",
       "    (2): MaxPool2d(kernel_size=3, stride=2, padding=0, dilation=1, ceil_mode=False)\n",
       "    (3): ReLU(inplace=True)\n",
       "    (4): Conv2d(96, 256, kernel_size=(5, 5), stride=(1, 1))\n",
       "    (5): BatchNorm2d(256, eps=1e-05, momentum=0.1, affine=True, track_running_stats=True)\n",
       "    (6): MaxPool2d(kernel_size=3, stride=2, padding=0, dilation=1, ceil_mode=False)\n",
       "    (7): ReLU(inplace=True)\n",
       "    (8): Conv2d(256, 384, kernel_size=(3, 3), stride=(1, 1))\n",
       "    (9): BatchNorm2d(384, eps=1e-05, momentum=0.1, affine=True, track_running_stats=True)\n",
       "    (10): ReLU(inplace=True)\n",
       "    (11): Conv2d(384, 384, kernel_size=(3, 3), stride=(1, 1))\n",
       "    (12): BatchNorm2d(384, eps=1e-05, momentum=0.1, affine=True, track_running_stats=True)\n",
       "    (13): ReLU(inplace=True)\n",
       "    (14): Conv2d(384, 256, kernel_size=(3, 3), stride=(1, 1))\n",
       "    (15): BatchNorm2d(256, eps=1e-05, momentum=0.1, affine=True, track_running_stats=True)\n",
       "  )\n",
       "  (conv_r1): Conv2d(256, 5120, kernel_size=(3, 3), stride=(1, 1))\n",
       "  (conv_r2): Conv2d(256, 256, kernel_size=(3, 3), stride=(1, 1))\n",
       "  (conv_cls1): Conv2d(256, 2560, kernel_size=(3, 3), stride=(1, 1))\n",
       "  (conv_cls2): Conv2d(256, 256, kernel_size=(3, 3), stride=(1, 1))\n",
       "  (regress_adjust): Conv2d(20, 20, kernel_size=(1, 1), stride=(1, 1))\n",
       ")"
      ]
     },
     "execution_count": 10,
     "metadata": {},
     "output_type": "execute_result"
    }
   ],
   "source": [
    "class temple(nn.Module):\n",
    "    def __init__(self):\n",
    "        super(temple, self).__init__()\n",
    "        \n",
    "    def forward(z):\n",
    "        "
   ]
  },
  {
   "cell_type": "code",
   "execution_count": null,
   "id": "6da13844",
   "metadata": {},
   "outputs": [],
   "source": []
  }
 ],
 "metadata": {
  "kernelspec": {
   "display_name": "Python 3 (ipykernel)",
   "language": "python",
   "name": "python3"
  },
  "language_info": {
   "codemirror_mode": {
    "name": "ipython",
    "version": 3
   },
   "file_extension": ".py",
   "mimetype": "text/x-python",
   "name": "python",
   "nbconvert_exporter": "python",
   "pygments_lexer": "ipython3",
   "version": "3.9.7"
  }
 },
 "nbformat": 4,
 "nbformat_minor": 5
}
