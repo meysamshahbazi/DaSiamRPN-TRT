{
 "cells": [
  {
   "cell_type": "code",
   "execution_count": 4,
   "id": "ea2765e7",
   "metadata": {},
   "outputs": [],
   "source": [
    "import cv2\n",
    "# import matplotlib\n",
    "# import matplotlib.pyplot as plt\n",
    "import numpy as np\n",
    "import glob\n",
    "import torch\n",
    "import torch.nn as nn \n",
    "import time\n",
    "import math\n",
    "# import torch.nn.functional as F\n",
    "import onnx"
   ]
  },
  {
   "cell_type": "code",
   "execution_count": 5,
   "id": "b83294bc",
   "metadata": {},
   "outputs": [],
   "source": [
    "# --------------------------------------------------------\n",
    "# DaSiamRPN\n",
    "# Licensed under The MIT License\n",
    "# Written by Qiang Wang (wangqiang2015 at ia.ac.cn)\n",
    "# --------------------------------------------------------\n",
    "import torch.nn as nn\n",
    "import torch.nn.functional as F\n",
    "\n",
    "size = 1\n",
    "configs = [3, 96, 256, 384, 384, 256]\n",
    "configs = list(map(lambda x: 3 if x==3 else x*size, configs))\n",
    "feat_in = configs[-1]\n",
    "feature_out = 256\n",
    "anchor=5\n",
    "class SiamRPN(nn.Module):\n",
    "    def __init__(self):\n",
    "#     def __init__(self, size=2, feature_out=512, anchor=5):\n",
    "        \n",
    "        super(SiamRPN, self).__init__()\n",
    "        self.featureExtract = nn.Sequential(\n",
    "            nn.Conv2d(configs[0], configs[1] , kernel_size=11, stride=2),\n",
    "            nn.BatchNorm2d(configs[1]),\n",
    "            nn.MaxPool2d(kernel_size=3, stride=2),\n",
    "            nn.ReLU(inplace=True),\n",
    "            nn.Conv2d(configs[1], configs[2], kernel_size=5),\n",
    "            nn.BatchNorm2d(configs[2]),\n",
    "            nn.MaxPool2d(kernel_size=3, stride=2),\n",
    "            nn.ReLU(inplace=True),\n",
    "            nn.Conv2d(configs[2], configs[3], kernel_size=3),\n",
    "            nn.BatchNorm2d(configs[3]),\n",
    "            nn.ReLU(inplace=True),\n",
    "            nn.Conv2d(configs[3], configs[4], kernel_size=3),\n",
    "            nn.BatchNorm2d(configs[4]),\n",
    "            nn.ReLU(inplace=True),\n",
    "            nn.Conv2d(configs[4], configs[5], kernel_size=3),\n",
    "            nn.BatchNorm2d(configs[5]),\n",
    "        )\n",
    "\n",
    "        self.anchor = anchor\n",
    "        self.feature_out = feature_out\n",
    "\n",
    "        self.conv_r1 = nn.Conv2d(feat_in, feature_out*4*anchor, 3)\n",
    "        self.conv_r2 = nn.Conv2d(feat_in, feature_out, 3)\n",
    "        self.conv_cls1 = nn.Conv2d(feat_in, feature_out*2*anchor, 3)\n",
    "        self.conv_cls2 = nn.Conv2d(feat_in, feature_out, 3)\n",
    "        self.regress_adjust = nn.Conv2d(4*anchor, 4*anchor, 1)\n",
    "\n",
    "#         self.r1_kernel = []\n",
    "#         self.cls1_kernel = []\n",
    "\n",
    "        self.cfg = {}\n",
    "\n",
    "    def forward(self, x):\n",
    "        x_f = self.featureExtract(x)\n",
    "        return self.regress_adjust(F.conv2d(self.conv_r2(x_f), self.r1_kernel)), \\\n",
    "               F.conv2d(self.conv_cls2(x_f), self.cls1_kernel)\n",
    "\n",
    "    def temple(self, z):\n",
    "        z_f = self.featureExtract(z)\n",
    "        r1_kernel_raw = self.conv_r1(z_f)\n",
    "        cls1_kernel_raw = self.conv_cls1(z_f)\n",
    "        kernel_size = r1_kernel_raw.data.size()[-1]\n",
    "        self.r1_kernel = r1_kernel_raw.view(self.anchor*4, self.feature_out, kernel_size, kernel_size)\n",
    "        self.cls1_kernel = cls1_kernel_raw.view(self.anchor*2, self.feature_out, kernel_size, kernel_size)\n",
    "\n",
    "\n",
    "class SiamRPNBIG(SiamRPN):\n",
    "    def __init__(self):\n",
    "        super(SiamRPNBIG, self).__init__(size=2) \n",
    "        # self.cfg = {'lr':0.295, 'window_influence': 0.42, 'penalty_k': 0.055, 'instance_size': 271, 'adaptive': True} # 0.383\n",
    "        self.cfg = {'lr':0.295, 'window_influence': 0.42, 'penalty_k': 0.055, 'instance_size': 271, 'adaptive': True} # 0.383\n",
    "\n",
    "\n",
    "class SiamRPNvot(SiamRPN):\n",
    "    def __init__(self):\n",
    "        super(SiamRPNvot, self).__init__(size=1, feature_out=256)\n",
    "        self.cfg = {'lr':0.45, 'window_influence': 0.44, 'penalty_k': 0.04, 'instance_size': 271, 'adaptive': True} # 0.355\n",
    "\n",
    "\n",
    "class SiamRPNotb(SiamRPN):\n",
    "    def __init__(self):\n",
    "        super(SiamRPNotb, self).__init__()#size=1, feature_out=256)\n",
    "        self.cfg = {'lr': 0.30, 'window_influence': 0.40, 'penalty_k': 0.22, 'instance_size': 271, 'adaptive': True} # 0.655\n"
   ]
  },
  {
   "cell_type": "code",
   "execution_count": 6,
   "id": "435de875",
   "metadata": {},
   "outputs": [],
   "source": [
    "# --------------------------------------------------------\n",
    "# DaSiamRPN\n",
    "# Licensed under The MIT License\n",
    "# Written by Qiang Wang (wangqiang2015 at ia.ac.cn)\n",
    "# --------------------------------------------------------\n",
    "import torch.nn as nn\n",
    "import torch.nn.functional as F\n",
    "\n",
    "size = 1\n",
    "configs = [3, 96, 256, 384, 384, 256]\n",
    "configs = list(map(lambda x: 3 if x==3 else x*size, configs))\n",
    "feat_in = configs[-1]\n",
    "feature_out = 256\n",
    "anchor=5\n",
    "class Temple(nn.Module):\n",
    "    def __init__(self):        \n",
    "        super(Temple, self).__init__()\n",
    "        self.cfg = {'lr': 0.30, 'window_influence': 0.40, 'penalty_k': 0.22, 'instance_size': 271, 'adaptive': True} # 0.655\n",
    "\n",
    "        self.featureExtract = nn.Sequential(\n",
    "            nn.Conv2d(configs[0], configs[1] , kernel_size=11, stride=2),\n",
    "            nn.BatchNorm2d(configs[1]),\n",
    "            nn.MaxPool2d(kernel_size=3, stride=2),\n",
    "            nn.ReLU(inplace=True),\n",
    "            nn.Conv2d(configs[1], configs[2], kernel_size=5),\n",
    "            nn.BatchNorm2d(configs[2]),\n",
    "            nn.MaxPool2d(kernel_size=3, stride=2),\n",
    "            nn.ReLU(inplace=True),\n",
    "            nn.Conv2d(configs[2], configs[3], kernel_size=3),\n",
    "            nn.BatchNorm2d(configs[3]),\n",
    "            nn.ReLU(inplace=True),\n",
    "            nn.Conv2d(configs[3], configs[4], kernel_size=3),\n",
    "            nn.BatchNorm2d(configs[4]),\n",
    "            nn.ReLU(inplace=True),\n",
    "            nn.Conv2d(configs[4], configs[5], kernel_size=3),\n",
    "            nn.BatchNorm2d(configs[5]),\n",
    "        )\n",
    "\n",
    "        self.anchor = anchor\n",
    "        self.feature_out = feature_out\n",
    "\n",
    "        self.conv_r1 = nn.Conv2d(feat_in, feature_out*4*anchor, 3)\n",
    "        self.conv_r2 = nn.Conv2d(feat_in, feature_out, 3)\n",
    "        self.conv_cls1 = nn.Conv2d(feat_in, feature_out*2*anchor, 3)\n",
    "        self.conv_cls2 = nn.Conv2d(feat_in, feature_out, 3)\n",
    "        self.regress_adjust = nn.Conv2d(4*anchor, 4*anchor, 1)\n",
    "\n",
    "        \n",
    "\n",
    "    def forward(self, z):\n",
    "        with torch.no_grad():\n",
    "            z_f = self.featureExtract(z)\n",
    "            r1_kernel_raw = self.conv_r1(z_f)\n",
    "            cls1_kernel_raw = self.conv_cls1(z_f)\n",
    "            kernel_size = r1_kernel_raw.data.size()[-1]\n",
    "            r1_kernel = r1_kernel_raw.view(self.anchor*4, self.feature_out, kernel_size, kernel_size)\n",
    "            cls1_kernel = cls1_kernel_raw.view(self.anchor*2, self.feature_out, kernel_size, kernel_size)\n",
    "        return r1_kernel,cls1_kernel\n"
   ]
  },
  {
   "cell_type": "code",
   "execution_count": 7,
   "id": "1f749b8d",
   "metadata": {
    "scrolled": false
   },
   "outputs": [],
   "source": [
    "model = Temple()\n",
    "model.load_state_dict(torch.load('SiamRPNOTB.model'))\n",
    "z = torch.randn(1,3,127,127).cuda()\n",
    "model.eval()\n",
    "model.cuda()\n",
    "ONNX_FILE_PATH = \"temple.onnx\"\n",
    "\n",
    "# torch.onnx.export(model, z, ONNX_FILE_PATH, input_names=[\"z\"], output_names=[\"zf\"], export_params=True)\n",
    "\n",
    "torch.onnx.export(model, z, ONNX_FILE_PATH, input_names=[\"z\"], output_names=[\"r1_kernel\",\"cls1_kernel\"], export_params=True)\n"
   ]
  },
  {
   "cell_type": "code",
   "execution_count": 8,
   "id": "c9386e14",
   "metadata": {},
   "outputs": [],
   "source": [
    "r1_kernel,cls1_kernel = model(z)"
   ]
  },
  {
   "cell_type": "code",
   "execution_count": 9,
   "id": "90c014fd",
   "metadata": {},
   "outputs": [],
   "source": [
    "\n",
    "size = 1\n",
    "configs = [3, 96, 256, 384, 384, 256]\n",
    "configs = list(map(lambda x: 3 if x==3 else x*size, configs))\n",
    "feat_in = configs[-1]\n",
    "feature_out = 256\n",
    "anchor=5\n",
    "class SiamRPN(nn.Module):\n",
    "    def __init__(self):\n",
    "#     def __init__(self, size=2, feature_out=512, anchor=5):\n",
    "        \n",
    "        super(SiamRPN, self).__init__()\n",
    "        self.featureExtract = nn.Sequential(\n",
    "            nn.Conv2d(configs[0], configs[1] , kernel_size=11, stride=2),\n",
    "            nn.BatchNorm2d(configs[1]),\n",
    "            nn.MaxPool2d(kernel_size=3, stride=2),\n",
    "            nn.ReLU(inplace=True),\n",
    "            nn.Conv2d(configs[1], configs[2], kernel_size=5),\n",
    "            nn.BatchNorm2d(configs[2]),\n",
    "            nn.MaxPool2d(kernel_size=3, stride=2),\n",
    "            nn.ReLU(inplace=True),\n",
    "            nn.Conv2d(configs[2], configs[3], kernel_size=3),\n",
    "            nn.BatchNorm2d(configs[3]),\n",
    "            nn.ReLU(inplace=True),\n",
    "            nn.Conv2d(configs[3], configs[4], kernel_size=3),\n",
    "            nn.BatchNorm2d(configs[4]),\n",
    "            nn.ReLU(inplace=True),\n",
    "            nn.Conv2d(configs[4], configs[5], kernel_size=3),\n",
    "            nn.BatchNorm2d(configs[5]),\n",
    "        )\n",
    "\n",
    "        self.anchor = anchor\n",
    "        self.feature_out = feature_out\n",
    "\n",
    "        self.conv_r1 = nn.Conv2d(feat_in, feature_out*4*anchor, 3)\n",
    "        self.conv_r2 = nn.Conv2d(feat_in, feature_out, 3)\n",
    "        self.conv_cls1 = nn.Conv2d(feat_in, feature_out*2*anchor, 3)\n",
    "        self.conv_cls2 = nn.Conv2d(feat_in, feature_out, 3)\n",
    "        self.regress_adjust = nn.Conv2d(4*anchor, 4*anchor, 1)\n",
    "\n",
    "#         self.r1_kernel = []\n",
    "#         self.cls1_kernel = []\n",
    "\n",
    "        self.cfg = {}\n",
    "\n",
    "    def forward(self, x):\n",
    "        x_f = self.featureExtract(x)\n",
    "        return self.conv_r2(x_f),self.conv_cls2(x_f)\n",
    "#         return self.regress_adjust(F.conv2d(self.conv_r2(x_f), self.r1_kernel)), \\\n",
    "#                F.conv2d(self.conv_cls2(x_f), self.cls1_kernel)\n",
    "    \n",
    "        \n",
    "#     def temple(self, z):\n",
    "#         z_f = self.featureExtract(z)\n",
    "#         r1_kernel_raw = self.conv_r1(z_f)\n",
    "#         cls1_kernel_raw = self.conv_cls1(z_f)\n",
    "#         kernel_size = r1_kernel_raw.data.size()[-1]\n",
    "#         self.r1_kernel = r1_kernel_raw.view(self.anchor*4, self.feature_out, kernel_size, kernel_size)\n",
    "#         self.cls1_kernel = cls1_kernel_raw.view(self.anchor*2, self.feature_out, kernel_size, kernel_size)\n"
   ]
  },
  {
   "cell_type": "code",
   "execution_count": 10,
   "id": "4487df65",
   "metadata": {},
   "outputs": [],
   "source": [
    "model = SiamRPN()\n",
    "model.load_state_dict(torch.load('SiamRPNOTB.model'))\n",
    "x = torch.randn(1,3,271,271).cuda()\n",
    "model.eval()\n",
    "model.cuda()\n",
    "ONNX_FILE_PATH = \"SiamRPNOTB.onnx\"\n",
    "\n",
    "# torch.onnx.export(model, z, ONNX_FILE_PATH, input_names=[\"z\"], output_names=[\"zf\"], export_params=True)\n",
    "\n",
    "torch.onnx.export(model,x, ONNX_FILE_PATH, input_names=[\"x\"], \n",
    "                  output_names=[\"delta\", \"score\" ], export_params=True)\n"
   ]
  },
  {
   "cell_type": "code",
   "execution_count": 13,
   "id": "684c53a8",
   "metadata": {},
   "outputs": [],
   "source": [
    "temple = Temple()\n",
    "temple = Temple()\n",
    "temple.load_state_dict(torch.load('SiamRPNOTB.model'))\n",
    "z = torch.randn(1,3,127,127).cuda()\n",
    "temple.eval()\n",
    "temple.cuda()\n",
    "r1_kernel,cls1_kernel = temple(z)"
   ]
  },
  {
   "cell_type": "code",
   "execution_count": 16,
   "id": "38b917f2",
   "metadata": {},
   "outputs": [],
   "source": [
    "siam = SiamRPN()\n",
    "siam.load_state_dict(torch.load('SiamRPNOTB.model'))\n",
    "x = torch.randn(1,3,271,271).cuda()\n",
    "siam.eval()\n",
    "siam.cuda()\n",
    "delta,score = siam(x)"
   ]
  },
  {
   "cell_type": "code",
   "execution_count": 23,
   "id": "7081eef7",
   "metadata": {},
   "outputs": [],
   "source": [
    "delta2 = F.conv2d(delta, r1_kernel)"
   ]
  },
  {
   "cell_type": "code",
   "execution_count": 25,
   "id": "7b594199",
   "metadata": {},
   "outputs": [
    {
     "data": {
      "text/plain": [
       "torch.Size([1, 10, 19, 19])"
      ]
     },
     "execution_count": 25,
     "metadata": {},
     "output_type": "execute_result"
    }
   ],
   "source": [
    "score2 = F.conv2d(score, cls1_kernel)\n",
    "score2.shape"
   ]
  },
  {
   "cell_type": "code",
   "execution_count": 24,
   "id": "039a4ab2",
   "metadata": {},
   "outputs": [
    {
     "data": {
      "text/plain": [
       "torch.Size([1, 20, 19, 19])"
      ]
     },
     "execution_count": 24,
     "metadata": {},
     "output_type": "execute_result"
    }
   ],
   "source": [
    "delta2.shape"
   ]
  },
  {
   "cell_type": "code",
   "execution_count": 18,
   "id": "a049ed27",
   "metadata": {},
   "outputs": [
    {
     "data": {
      "text/plain": [
       "torch.Size([20, 256, 4, 4])"
      ]
     },
     "execution_count": 18,
     "metadata": {},
     "output_type": "execute_result"
    }
   ],
   "source": [
    "r1_kernel.shape"
   ]
  },
  {
   "cell_type": "code",
   "execution_count": 22,
   "id": "1f759bb6",
   "metadata": {},
   "outputs": [
    {
     "data": {
      "text/plain": [
       "torch.Size([10, 256, 4, 4])"
      ]
     },
     "execution_count": 22,
     "metadata": {},
     "output_type": "execute_result"
    }
   ],
   "source": [
    "cls1_kernel.shape"
   ]
  },
  {
   "cell_type": "code",
   "execution_count": 26,
   "id": "10576b22",
   "metadata": {},
   "outputs": [],
   "source": [
    "class RegressAdjust(nn.Module):\n",
    "    def __init__(self):\n",
    "        super(RegressAdjust, self).__init__()\n",
    "        self.conv = siam.regress_adjust\n",
    "    def forward(self,delta2):\n",
    "        return self.conv(delta2)"
   ]
  },
  {
   "cell_type": "code",
   "execution_count": 27,
   "id": "04c0ccf5",
   "metadata": {},
   "outputs": [],
   "source": [
    "model = RegressAdjust()\n",
    "# model.load_state_dict(torch.load('SiamRPNOTB.model'))\n",
    "x = torch.randn(1,20,19,19).cuda()\n",
    "model.eval()\n",
    "model.cuda()\n",
    "ONNX_FILE_PATH = \"RegressAdjust.onnx\"\n",
    "\n",
    "# torch.onnx.export(model, z, ONNX_FILE_PATH, input_names=[\"z\"], output_names=[\"zf\"], export_params=True)\n",
    "\n",
    "torch.onnx.export(model,x, ONNX_FILE_PATH, input_names=[\"delta2\"], \n",
    "                  output_names=[\"final_delta\" ], export_params=True)"
   ]
  },
  {
   "cell_type": "code",
   "execution_count": null,
   "id": "69cfe81a",
   "metadata": {},
   "outputs": [],
   "source": [
    "# net = SiamRPNotb()\n",
    "# net.eval()\n",
    "# net.cuda()\n",
    "# net.load_state_dict(torch.load('SiamRPNOTB.model'))\n"
   ]
  },
  {
   "cell_type": "code",
   "execution_count": null,
   "id": "3ba1ea73",
   "metadata": {},
   "outputs": [],
   "source": [
    "# class temple(nn.Module):\n",
    "#     def __init__(self):\n",
    "#         super(temple, self).__init__()\n",
    "        \n",
    "#     def forward(self, z):\n",
    "#         z_f = net.featureExtract(z)\n",
    "# #         r1_kernel_raw = net.conv_r1(z_f)\n",
    "# #         cls1_kernel_raw = net.conv_cls1(z_f)\n",
    "# #         kernel_size = r1_kernel_raw.data.size()[-1]\n",
    "# #         r1_kernel = r1_kernel_raw.view(net.anchor*4, net.feature_out, kernel_size, kernel_size)\n",
    "# #         cls1_kernel = cls1_kernel_raw.view(net.anchor*2, net.feature_out, kernel_size, kernel_size)\n",
    "#         return z_f#r1_kernel_raw,cls1_kernel_raw"
   ]
  },
  {
   "cell_type": "code",
   "execution_count": null,
   "id": "6da13844",
   "metadata": {},
   "outputs": [],
   "source": [
    "z = torch.randn(1,3,127,127).cuda()\n",
    "model = temple()\n",
    "model.eval()\n",
    "model.cuda()\n",
    "r1_kernel = model(x)\n"
   ]
  },
  {
   "cell_type": "code",
   "execution_count": null,
   "id": "3f421d4e",
   "metadata": {},
   "outputs": [],
   "source": []
  },
  {
   "cell_type": "code",
   "execution_count": null,
   "id": "c9763578",
   "metadata": {},
   "outputs": [],
   "source": []
  },
  {
   "cell_type": "code",
   "execution_count": null,
   "id": "fe2e00dc",
   "metadata": {},
   "outputs": [],
   "source": []
  },
  {
   "cell_type": "code",
   "execution_count": null,
   "id": "d88b7844",
   "metadata": {},
   "outputs": [],
   "source": []
  },
  {
   "cell_type": "code",
   "execution_count": null,
   "id": "d583ee71",
   "metadata": {},
   "outputs": [],
   "source": []
  }
 ],
 "metadata": {
  "kernelspec": {
   "display_name": "Python 3 (ipykernel)",
   "language": "python",
   "name": "python3"
  },
  "language_info": {
   "codemirror_mode": {
    "name": "ipython",
    "version": 3
   },
   "file_extension": ".py",
   "mimetype": "text/x-python",
   "name": "python",
   "nbconvert_exporter": "python",
   "pygments_lexer": "ipython3",
   "version": "3.9.7"
  }
 },
 "nbformat": 4,
 "nbformat_minor": 5
}
